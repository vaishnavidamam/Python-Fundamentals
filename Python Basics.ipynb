{
 "cells": [
  {
   "cell_type": "markdown",
   "id": "f2dcb475-a209-48fe-88b1-45edc7fed8ef",
   "metadata": {},
   "source": [
    "# Variables in Python"
   ]
  },
  {
   "cell_type": "code",
   "execution_count": 5,
   "id": "98668480-cc4f-4e32-b255-6c33dee50143",
   "metadata": {},
   "outputs": [
    {
     "name": "stdout",
     "output_type": "stream",
     "text": [
      "22\n"
     ]
    }
   ],
   "source": [
    "x = 22\n",
    "\n",
    "print(x)"
   ]
  },
  {
   "cell_type": "code",
   "execution_count": 6,
   "id": "d6faec5d-577e-4ce7-b3a6-b7f171f3b210",
   "metadata": {},
   "outputs": [
    {
     "data": {
      "text/plain": [
       "int"
      ]
     },
     "execution_count": 6,
     "metadata": {},
     "output_type": "execute_result"
    }
   ],
   "source": [
    "type(x)"
   ]
  },
  {
   "cell_type": "code",
   "execution_count": 7,
   "id": "43bb7834-5dd4-4093-b0d7-766b9464ddaa",
   "metadata": {},
   "outputs": [
    {
     "name": "stdout",
     "output_type": "stream",
     "text": [
      "Mint Chocolate Chip\n"
     ]
    }
   ],
   "source": [
    "y = 'Mint Chocolate Chip'\n",
    "\n",
    "print(y)"
   ]
  },
  {
   "cell_type": "code",
   "execution_count": 8,
   "id": "a1c51753-a36b-4a7e-8373-13624ad7f26e",
   "metadata": {},
   "outputs": [
    {
     "data": {
      "text/plain": [
       "str"
      ]
     },
     "execution_count": 8,
     "metadata": {},
     "output_type": "execute_result"
    }
   ],
   "source": [
    "\n",
    "type(y)"
   ]
  },
  {
   "cell_type": "code",
   "execution_count": 9,
   "id": "64561e44-a40b-476b-b930-b6a13544c814",
   "metadata": {},
   "outputs": [
    {
     "name": "stdout",
     "output_type": "stream",
     "text": [
      "Mint Chocolate Chip\n"
     ]
    }
   ],
   "source": [
    "# Case Sensitivity\n",
    "\n",
    "y = 'Chocolate'\n",
    "\n",
    "Y = 'Mint Chocolate Chip'\n",
    "\n",
    "print(Y)"
   ]
  },
  {
   "cell_type": "code",
   "execution_count": 10,
   "id": "3eda92bf-c008-4acf-b712-107de903e774",
   "metadata": {},
   "outputs": [
    {
     "name": "stdout",
     "output_type": "stream",
     "text": [
      "Chocolate\n",
      "Vanilla\n",
      "Rocky Road\n"
     ]
    }
   ],
   "source": [
    "#Assign multiple values to multiple variables\n",
    "\n",
    "x,y,z = 'Chocolate', 'Vanilla', 'Rocky Road'\n",
    "\n",
    "print(x)\n",
    "print(y)\n",
    "print(z)"
   ]
  },
  {
   "cell_type": "code",
   "execution_count": 11,
   "id": "ffbd2b44-2686-4334-8ae2-8e46d4a79b12",
   "metadata": {},
   "outputs": [
    {
     "name": "stdout",
     "output_type": "stream",
     "text": [
      "Root Beer Float\n",
      "Root Beer Float\n",
      "Root Beer Float\n"
     ]
    }
   ],
   "source": [
    "#Assign one value to multiple variables\n",
    "\n",
    "x = y = z = 'Root Beer Float'\n",
    "\n",
    "print(x)\n",
    "print(y)\n",
    "print(z)\n"
   ]
  },
  {
   "cell_type": "code",
   "execution_count": 12,
   "id": "cf5be2f9-0a65-44c1-a39e-f5e9044a0102",
   "metadata": {},
   "outputs": [
    {
     "name": "stdout",
     "output_type": "stream",
     "text": [
      "Chocolate\n",
      "Vanilla\n",
      "Rocky Road\n"
     ]
    }
   ],
   "source": [
    "ice_cream = ['Chocolate', 'Vanilla', 'Rocky Road']\n",
    "\n",
    "x,y,z = ice_cream\n",
    "\n",
    "print(x)\n",
    "print(y)\n",
    "print(z)"
   ]
  },
  {
   "cell_type": "code",
   "execution_count": 18,
   "id": "066cda5e-5ee2-4101-828e-60a4e567709e",
   "metadata": {},
   "outputs": [
    {
     "name": "stdout",
     "output_type": "stream",
     "text": [
      "Ice Cream is my favorite.\n"
     ]
    }
   ],
   "source": [
    "x = 'Ice Cream'\n",
    "y = ' is'\n",
    "z = ' my favorite.'\n",
    "\n",
    "print(x+y+z)"
   ]
  },
  {
   "cell_type": "code",
   "execution_count": 19,
   "id": "af040a34-f3b6-4056-8931-deb656041e97",
   "metadata": {},
   "outputs": [
    {
     "name": "stdout",
     "output_type": "stream",
     "text": [
      "6\n"
     ]
    }
   ],
   "source": [
    "x = 1\n",
    "y = 2\n",
    "z = 3\n",
    "\n",
    "print(x+y+z)\n"
   ]
  },
  {
   "cell_type": "code",
   "execution_count": 20,
   "id": "4cce4a00-b98f-473d-abc8-479cc08dd12e",
   "metadata": {},
   "outputs": [
    {
     "name": "stdout",
     "output_type": "stream",
     "text": [
      "Ice Cream 2\n"
     ]
    }
   ],
   "source": [
    "x = 'Ice Cream'\n",
    "y = 2\n",
    "\n",
    "\n",
    "print(x,y)"
   ]
  },
  {
   "cell_type": "markdown",
   "id": "62e41a09-35ce-4281-a427-f657a7987a39",
   "metadata": {},
   "source": [
    "# Data Types"
   ]
  },
  {
   "cell_type": "code",
   "execution_count": 21,
   "id": "45379b91-1c58-4cd5-8952-9ed9e972b458",
   "metadata": {},
   "outputs": [
    {
     "data": {
      "text/plain": [
       "int"
      ]
     },
     "execution_count": 21,
     "metadata": {},
     "output_type": "execute_result"
    }
   ],
   "source": [
    "type(-12 + 100)"
   ]
  },
  {
   "cell_type": "code",
   "execution_count": 22,
   "id": "b2e89bb3-b419-4510-b8ae-d91c1f45797a",
   "metadata": {},
   "outputs": [
    {
     "data": {
      "text/plain": [
       "float"
      ]
     },
     "execution_count": 22,
     "metadata": {},
     "output_type": "execute_result"
    }
   ],
   "source": [
    "type(12 + 10.25)"
   ]
  },
  {
   "cell_type": "code",
   "execution_count": 23,
   "id": "12035903-b465-41fd-b1d2-8b0aa7a844bf",
   "metadata": {},
   "outputs": [
    {
     "data": {
      "text/plain": [
       "complex"
      ]
     },
     "execution_count": 23,
     "metadata": {},
     "output_type": "execute_result"
    }
   ],
   "source": [
    "type(12 + 3j)\n"
   ]
  },
  {
   "cell_type": "code",
   "execution_count": 24,
   "id": "98adc0a7-7d63-438b-86f0-f186663819c8",
   "metadata": {},
   "outputs": [
    {
     "data": {
      "text/plain": [
       "bool"
      ]
     },
     "execution_count": 24,
     "metadata": {},
     "output_type": "execute_result"
    }
   ],
   "source": [
    "#Boolean\n",
    "\n",
    "type(1 > 5)"
   ]
  },
  {
   "cell_type": "code",
   "execution_count": 25,
   "id": "7d3dea36-f537-4173-8ae4-f355bc67b416",
   "metadata": {},
   "outputs": [
    {
     "data": {
      "text/plain": [
       "'Single Quote'"
      ]
     },
     "execution_count": 25,
     "metadata": {},
     "output_type": "execute_result"
    }
   ],
   "source": [
    "# Strings\n",
    "\n",
    "'Single Quote'"
   ]
  },
  {
   "cell_type": "code",
   "execution_count": 26,
   "id": "dca1bb9e-554e-49ee-ad4a-c0e7ef53d495",
   "metadata": {},
   "outputs": [
    {
     "data": {
      "text/plain": [
       "'Double Quote'"
      ]
     },
     "execution_count": 26,
     "metadata": {},
     "output_type": "execute_result"
    }
   ],
   "source": [
    "\"Double Quote\""
   ]
  },
  {
   "cell_type": "code",
   "execution_count": 27,
   "id": "f75f8c16-fcd5-4959-b74c-73c157d59332",
   "metadata": {},
   "outputs": [],
   "source": [
    "multiline = \"\"\"\n",
    "The ice cream vanquished\n",
    "my longing for sweets,\n",
    "upon this diet I look away,\n",
    "it no longer exists on this day.\n",
    "\n",
    "\"\"\""
   ]
  },
  {
   "cell_type": "code",
   "execution_count": 28,
   "id": "35adebba-193b-4213-b976-244215f76968",
   "metadata": {},
   "outputs": [
    {
     "name": "stdout",
     "output_type": "stream",
     "text": [
      "\n",
      "The ice cream vanquished\n",
      "my longing for sweets,\n",
      "upon this diet I look away,\n",
      "it no longer exists on this day.\n",
      "\n",
      "\n"
     ]
    }
   ],
   "source": [
    "print(multiline)"
   ]
  },
  {
   "cell_type": "code",
   "execution_count": 29,
   "id": "69b2c36a-5840-4aac-aa67-3cfb36accecc",
   "metadata": {},
   "outputs": [],
   "source": [
    "a = 'Hello World!'"
   ]
  },
  {
   "cell_type": "code",
   "execution_count": 30,
   "id": "780b4dd9-5af2-4d8b-a3a5-58916e879ddf",
   "metadata": {},
   "outputs": [
    {
     "name": "stdout",
     "output_type": "stream",
     "text": [
      "llo\n"
     ]
    }
   ],
   "source": [
    "\n",
    "print(a[2:5])"
   ]
  },
  {
   "cell_type": "code",
   "execution_count": 31,
   "id": "f1ad306f-3d78-4f78-8560-9c1047320f4f",
   "metadata": {},
   "outputs": [
    {
     "data": {
      "text/plain": [
       "'Hello World!Hello World!Hello World!'"
      ]
     },
     "execution_count": 31,
     "metadata": {},
     "output_type": "execute_result"
    }
   ],
   "source": [
    "\n",
    "a*3"
   ]
  },
  {
   "cell_type": "code",
   "execution_count": 32,
   "id": "fced5a72-8f8d-421f-b2c3-257d19dd9a14",
   "metadata": {},
   "outputs": [
    {
     "data": {
      "text/plain": [
       "'Hello World!Hello World!'"
      ]
     },
     "execution_count": 32,
     "metadata": {},
     "output_type": "execute_result"
    }
   ],
   "source": [
    "\n",
    "a + a \n"
   ]
  },
  {
   "cell_type": "code",
   "execution_count": 33,
   "id": "5f13f687-2aa8-4ae5-b95b-2bf981001e64",
   "metadata": {},
   "outputs": [
    {
     "data": {
      "text/plain": [
       "[1, 2, 3]"
      ]
     },
     "execution_count": 33,
     "metadata": {},
     "output_type": "execute_result"
    }
   ],
   "source": [
    "# list\n",
    "\n",
    "[1,2,3]"
   ]
  },
  {
   "cell_type": "code",
   "execution_count": 34,
   "id": "46cc1a5e-fec7-4229-9cb1-2945ee90b35f",
   "metadata": {},
   "outputs": [
    {
     "data": {
      "text/plain": [
       "['Cookie Dough', 'Strawberry', 'Chocolate']"
      ]
     },
     "execution_count": 34,
     "metadata": {},
     "output_type": "execute_result"
    }
   ],
   "source": [
    "['Cookie Dough','Strawberry','Chocolate']"
   ]
  },
  {
   "cell_type": "code",
   "execution_count": 35,
   "id": "0a2b7480-e96a-45d5-bce3-7f4329883d4c",
   "metadata": {},
   "outputs": [
    {
     "data": {
      "text/plain": [
       "['Cookie Dough', 'Strawberry', 'Chocolate', 'Salted Caramel']"
      ]
     },
     "execution_count": 35,
     "metadata": {},
     "output_type": "execute_result"
    }
   ],
   "source": [
    "ice_cream = ['Cookie Dough','Strawberry','Chocolate']\n",
    "\n",
    "ice_cream.append('Salted Caramel')\n",
    "\n",
    "ice_cream"
   ]
  },
  {
   "cell_type": "code",
   "execution_count": 36,
   "id": "a9de0470-598c-4112-ad12-a5ff31a59015",
   "metadata": {},
   "outputs": [
    {
     "data": {
      "text/plain": [
       "['Butter Pecan', 'Strawberry', 'Chocolate', 'Salted Caramel']"
      ]
     },
     "execution_count": 36,
     "metadata": {},
     "output_type": "execute_result"
    }
   ],
   "source": [
    "ice_cream[0] = 'Butter Pecan'\n",
    "\n",
    "ice_cream\n"
   ]
  },
  {
   "cell_type": "code",
   "execution_count": 37,
   "id": "6f36426f-6532-4ae6-94ab-04e2d5cf3ff9",
   "metadata": {},
   "outputs": [
    {
     "data": {
      "text/plain": [
       "'Spoon'"
      ]
     },
     "execution_count": 37,
     "metadata": {},
     "output_type": "execute_result"
    }
   ],
   "source": [
    "nest_list = ['Vanilla', 3, ['Scoops','Spoon'],True]\n",
    "nest_list[2][1]"
   ]
  },
  {
   "cell_type": "code",
   "execution_count": 38,
   "id": "a0b7cb76-aa5e-4c56-82ec-ab982f703d0b",
   "metadata": {},
   "outputs": [],
   "source": [
    "#tuple\n",
    "\n",
    "tuple_scoops = (1,2,3,2,1)"
   ]
  },
  {
   "cell_type": "code",
   "execution_count": 39,
   "id": "d3d52663-48e2-41c6-8cfc-361551c8904e",
   "metadata": {},
   "outputs": [
    {
     "data": {
      "text/plain": [
       "tuple"
      ]
     },
     "execution_count": 39,
     "metadata": {},
     "output_type": "execute_result"
    }
   ],
   "source": [
    "\n",
    "type(tuple_scoops)"
   ]
  },
  {
   "cell_type": "code",
   "execution_count": 40,
   "id": "ba4e3f98-d7d4-48a6-b87b-2b38f5a8e29d",
   "metadata": {},
   "outputs": [
    {
     "data": {
      "text/plain": [
       "1"
      ]
     },
     "execution_count": 40,
     "metadata": {},
     "output_type": "execute_result"
    }
   ],
   "source": [
    "\n",
    "tuple_scoops[0]"
   ]
  },
  {
   "cell_type": "code",
   "execution_count": 41,
   "id": "010a34a6-5973-46d6-a217-40a61c2c4eb1",
   "metadata": {},
   "outputs": [],
   "source": [
    "# sets\n",
    "\n",
    "\n",
    "daily_pints = {1,2,3}\n"
   ]
  },
  {
   "cell_type": "code",
   "execution_count": 42,
   "id": "f4906813-3c62-4133-b6e1-7f70ab192542",
   "metadata": {},
   "outputs": [
    {
     "data": {
      "text/plain": [
       "set"
      ]
     },
     "execution_count": 42,
     "metadata": {},
     "output_type": "execute_result"
    }
   ],
   "source": [
    "\n",
    "type(daily_pints)"
   ]
  },
  {
   "cell_type": "code",
   "execution_count": 43,
   "id": "edd63021-2dae-48b3-a321-0f22503f21a1",
   "metadata": {},
   "outputs": [
    {
     "name": "stdout",
     "output_type": "stream",
     "text": [
      "{1, 2, 3}\n"
     ]
    }
   ],
   "source": [
    "\n",
    "print(daily_pints)"
   ]
  },
  {
   "cell_type": "code",
   "execution_count": 44,
   "id": "b16c5c3f-3b8e-422f-8f4b-ffe2dc01be2e",
   "metadata": {},
   "outputs": [
    {
     "name": "stdout",
     "output_type": "stream",
     "text": [
      "{1, 2, 3, 4, 5, 6, 31}\n"
     ]
    }
   ],
   "source": [
    "daily_pints_log = {1,2,31,2,3,4,1,2,5,6,3,2}\n",
    "\n",
    "print(daily_pints_log)"
   ]
  },
  {
   "cell_type": "code",
   "execution_count": 45,
   "id": "29a0fe73-97a5-4d7c-801b-3b2ff2fd85f3",
   "metadata": {},
   "outputs": [],
   "source": [
    "\n",
    "wifes_daily_pints_log = {1,3,5,7,3,24,5,7,3,2,0}"
   ]
  },
  {
   "cell_type": "code",
   "execution_count": 46,
   "id": "35677622-8d1a-4d51-88a7-570d83676d51",
   "metadata": {},
   "outputs": [
    {
     "name": "stdout",
     "output_type": "stream",
     "text": [
      "{0, 1, 2, 3, 4, 5, 6, 7, 24, 31}\n"
     ]
    }
   ],
   "source": [
    "print(daily_pints_log | wifes_daily_pints_log)"
   ]
  },
  {
   "cell_type": "code",
   "execution_count": 47,
   "id": "efe2f4b5-4413-4dee-9c68-88809202e8a5",
   "metadata": {},
   "outputs": [
    {
     "name": "stdout",
     "output_type": "stream",
     "text": [
      "{1, 2, 3, 5}\n"
     ]
    }
   ],
   "source": [
    "print(daily_pints_log & wifes_daily_pints_log)"
   ]
  },
  {
   "cell_type": "code",
   "execution_count": 48,
   "id": "63a1a69d-4cfd-4400-9d0f-b1185be712a0",
   "metadata": {},
   "outputs": [
    {
     "name": "stdout",
     "output_type": "stream",
     "text": [
      "{0, 24, 7}\n"
     ]
    }
   ],
   "source": [
    "\n",
    "print(wifes_daily_pints_log - daily_pints_log )"
   ]
  },
  {
   "cell_type": "code",
   "execution_count": 49,
   "id": "1a4653a9-c73b-4e64-8396-811f48e91126",
   "metadata": {},
   "outputs": [
    {
     "name": "stdout",
     "output_type": "stream",
     "text": [
      "{0, 4, 6, 7, 24, 31}\n"
     ]
    }
   ],
   "source": [
    "\n",
    "print(wifes_daily_pints_log ^ daily_pints_log )"
   ]
  },
  {
   "cell_type": "code",
   "execution_count": 50,
   "id": "dc827079-a29d-4308-919c-7e8359426e4c",
   "metadata": {},
   "outputs": [],
   "source": [
    "# dictionaries\n",
    "# Key/Value Pair\n",
    "\n",
    "dict_cream = {'name': 'Alex Freberg', 'weekly intake': 5, 'favorite ice creams': ['MCC','Chocolate']}"
   ]
  },
  {
   "cell_type": "code",
   "execution_count": 51,
   "id": "f83b37f4-3564-4f8b-9f19-dd3675ecd45b",
   "metadata": {},
   "outputs": [
    {
     "data": {
      "text/plain": [
       "dict"
      ]
     },
     "execution_count": 51,
     "metadata": {},
     "output_type": "execute_result"
    }
   ],
   "source": [
    "\n",
    "type(dict_cream)"
   ]
  },
  {
   "cell_type": "code",
   "execution_count": 52,
   "id": "6250f750-c325-420f-987c-194968fe03fc",
   "metadata": {},
   "outputs": [
    {
     "name": "stdout",
     "output_type": "stream",
     "text": [
      "{'name': 'Alex Freberg', 'weekly intake': 5, 'favorite ice creams': ['MCC', 'Chocolate']}\n"
     ]
    }
   ],
   "source": [
    "print(dict_cream)"
   ]
  },
  {
   "cell_type": "code",
   "execution_count": 53,
   "id": "3d44bc56-c120-4692-9a1a-169897211738",
   "metadata": {},
   "outputs": [
    {
     "data": {
      "text/plain": [
       "dict_values(['Alex Freberg', 5, ['MCC', 'Chocolate']])"
      ]
     },
     "execution_count": 53,
     "metadata": {},
     "output_type": "execute_result"
    }
   ],
   "source": [
    "\n",
    "dict_cream.values()"
   ]
  },
  {
   "cell_type": "code",
   "execution_count": 54,
   "id": "01a03eca-1098-4cea-bc8a-ab85c48f3637",
   "metadata": {},
   "outputs": [
    {
     "data": {
      "text/plain": [
       "dict_keys(['name', 'weekly intake', 'favorite ice creams'])"
      ]
     },
     "execution_count": 54,
     "metadata": {},
     "output_type": "execute_result"
    }
   ],
   "source": [
    "dict_cream.keys()"
   ]
  },
  {
   "cell_type": "code",
   "execution_count": 55,
   "id": "3397b7bd-c389-4afe-8372-eb841bc4a9a2",
   "metadata": {},
   "outputs": [
    {
     "data": {
      "text/plain": [
       "dict_items([('name', 'Alex Freberg'), ('weekly intake', 5), ('favorite ice creams', ['MCC', 'Chocolate'])])"
      ]
     },
     "execution_count": 55,
     "metadata": {},
     "output_type": "execute_result"
    }
   ],
   "source": [
    "\n",
    "dict_cream.items()"
   ]
  },
  {
   "cell_type": "code",
   "execution_count": 56,
   "id": "e1f53c9a-d56f-4cf3-a30f-3c447f160950",
   "metadata": {},
   "outputs": [
    {
     "data": {
      "text/plain": [
       "'Alex Freberg'"
      ]
     },
     "execution_count": 56,
     "metadata": {},
     "output_type": "execute_result"
    }
   ],
   "source": [
    "dict_cream['name']"
   ]
  },
  {
   "cell_type": "code",
   "execution_count": 57,
   "id": "381df76b-1ad8-4eb3-8207-b66a2c65afef",
   "metadata": {},
   "outputs": [
    {
     "name": "stdout",
     "output_type": "stream",
     "text": [
      "{'name': 'Christine Freberg', 'weekly intake': 5, 'favorite ice creams': ['MCC', 'Chocolate']}\n"
     ]
    }
   ],
   "source": [
    "dict_cream['name'] = 'Christine Freberg'\n",
    "\n",
    "print(dict_cream)"
   ]
  },
  {
   "cell_type": "code",
   "execution_count": 58,
   "id": "ad3e7212-5a98-43f6-b513-2e6813c9fc4e",
   "metadata": {},
   "outputs": [
    {
     "name": "stdout",
     "output_type": "stream",
     "text": [
      "{'name': 'Christine Freberg', 'weekly intake': 10, 'favorite ice creams': ['MCC', 'Chocolate'], 'weight': 300}\n"
     ]
    }
   ],
   "source": [
    "dict_cream.update({'name': 'Christine Freberg', 'weekly intake': 10, 'weight': 300})\n",
    "\n",
    "print(dict_cream)"
   ]
  },
  {
   "cell_type": "code",
   "execution_count": 60,
   "id": "4659ea6d-a4cd-43f0-833e-a5db3b98061e",
   "metadata": {},
   "outputs": [
    {
     "name": "stdout",
     "output_type": "stream",
     "text": [
      "{'name': 'Christine Freberg', 'weekly intake': 10, 'favorite ice creams': ['MCC', 'Chocolate']}\n"
     ]
    }
   ],
   "source": [
    "del dict_cream['weight']\n",
    "\n",
    "print(dict_cream)\n"
   ]
  },
  {
   "cell_type": "markdown",
   "id": "83ec2fd9-ff5c-48ae-a337-7673370877e8",
   "metadata": {},
   "source": [
    "# Comparison Operators"
   ]
  },
  {
   "cell_type": "code",
   "execution_count": 61,
   "id": "94720729-0376-4cf7-abbd-d0bb9f78e4f2",
   "metadata": {},
   "outputs": [
    {
     "data": {
      "text/plain": [
       "False"
      ]
     },
     "execution_count": 61,
     "metadata": {},
     "output_type": "execute_result"
    }
   ],
   "source": [
    "10 == 50"
   ]
  },
  {
   "cell_type": "code",
   "execution_count": 62,
   "id": "9b7d8b12-e51a-4530-b1a7-d27c5c0c58b9",
   "metadata": {},
   "outputs": [
    {
     "data": {
      "text/plain": [
       "True"
      ]
     },
     "execution_count": 62,
     "metadata": {},
     "output_type": "execute_result"
    }
   ],
   "source": [
    "\n",
    "10 != 50"
   ]
  },
  {
   "cell_type": "code",
   "execution_count": 63,
   "id": "3290cf56-c8ea-4f96-89f8-e61aadf80e06",
   "metadata": {},
   "outputs": [
    {
     "data": {
      "text/plain": [
       "True"
      ]
     },
     "execution_count": 63,
     "metadata": {},
     "output_type": "execute_result"
    }
   ],
   "source": [
    "\n",
    "'Vanilla' == 'Vanilla'"
   ]
  },
  {
   "cell_type": "code",
   "execution_count": 64,
   "id": "b7b807d9-a6c9-49be-b4ba-4d1c114fe9f5",
   "metadata": {},
   "outputs": [
    {
     "data": {
      "text/plain": [
       "True"
      ]
     },
     "execution_count": 64,
     "metadata": {},
     "output_type": "execute_result"
    }
   ],
   "source": [
    "x = 'Vanilla'\n",
    "y = 'Chocolate'\n",
    "\n",
    "x != y"
   ]
  },
  {
   "cell_type": "code",
   "execution_count": 65,
   "id": "673b87df-c3de-4476-ae30-40888a9dfbad",
   "metadata": {},
   "outputs": [
    {
     "data": {
      "text/plain": [
       "True"
      ]
     },
     "execution_count": 65,
     "metadata": {},
     "output_type": "execute_result"
    }
   ],
   "source": [
    "10 <= 10"
   ]
  },
  {
   "cell_type": "markdown",
   "id": "4b087935-2b26-413d-a0f0-9982460af75a",
   "metadata": {},
   "source": [
    "# Logical Operators"
   ]
  },
  {
   "cell_type": "code",
   "execution_count": 66,
   "id": "c56da83e-cb57-4dd7-9363-868dcbac3d88",
   "metadata": {},
   "outputs": [
    {
     "data": {
      "text/plain": [
       "True"
      ]
     },
     "execution_count": 66,
     "metadata": {},
     "output_type": "execute_result"
    }
   ],
   "source": [
    "(70 > 50) and (50 > 10)"
   ]
  },
  {
   "cell_type": "code",
   "execution_count": 67,
   "id": "08ba38c2-aee7-4787-b801-db6e9641f4b8",
   "metadata": {},
   "outputs": [
    {
     "data": {
      "text/plain": [
       "True"
      ]
     },
     "execution_count": 67,
     "metadata": {},
     "output_type": "execute_result"
    }
   ],
   "source": [
    "\n",
    "(10 > 50) or (50 > 10)"
   ]
  },
  {
   "cell_type": "code",
   "execution_count": 68,
   "id": "3d666594-eb12-4bb1-b322-d13c9852d02c",
   "metadata": {},
   "outputs": [
    {
     "data": {
      "text/plain": [
       "True"
      ]
     },
     "execution_count": 68,
     "metadata": {},
     "output_type": "execute_result"
    }
   ],
   "source": [
    "\n",
    "('Vanilla' > 'Chocolate') and (50 > 10)"
   ]
  },
  {
   "cell_type": "code",
   "execution_count": 69,
   "id": "62fad60e-8f74-48ed-8683-a82cae9d1cb4",
   "metadata": {},
   "outputs": [
    {
     "data": {
      "text/plain": [
       "False"
      ]
     },
     "execution_count": 69,
     "metadata": {},
     "output_type": "execute_result"
    }
   ],
   "source": [
    "\n",
    "not(50 > 10)"
   ]
  },
  {
   "cell_type": "markdown",
   "id": "f83254b4-ed54-4a52-930e-c625fb999806",
   "metadata": {},
   "source": [
    "# Membership Operators"
   ]
  },
  {
   "cell_type": "code",
   "execution_count": 70,
   "id": "6886ab03-1da1-4f49-9b8f-6bb0d78a4af6",
   "metadata": {},
   "outputs": [
    {
     "data": {
      "text/plain": [
       "True"
      ]
     },
     "execution_count": 70,
     "metadata": {},
     "output_type": "execute_result"
    }
   ],
   "source": [
    "ice_cream = 'I love Chocolate ice cream'\n",
    "\n",
    "'love' in 'I love Chocolate ice cream'"
   ]
  },
  {
   "cell_type": "code",
   "execution_count": 71,
   "id": "37e5af6e-7f2a-47cd-b338-a6f3b9a78ab2",
   "metadata": {},
   "outputs": [
    {
     "data": {
      "text/plain": [
       "False"
      ]
     },
     "execution_count": 71,
     "metadata": {},
     "output_type": "execute_result"
    }
   ],
   "source": [
    "scoops = [1,2,3,4,5]\n",
    "wanted_scoops = 8\n",
    "\n",
    "wanted_scoops in scoops\n"
   ]
  },
  {
   "cell_type": "markdown",
   "id": "f69b1186-2157-4d62-91b4-7b4cff85ddfb",
   "metadata": {},
   "source": [
    "# If - Elif - Else Statements"
   ]
  },
  {
   "cell_type": "code",
   "execution_count": 73,
   "id": "bd778f91-351c-4fdb-9fe0-f5c6bb297fba",
   "metadata": {},
   "outputs": [
    {
     "name": "stdout",
     "output_type": "stream",
     "text": [
      "It worked!\n"
     ]
    }
   ],
   "source": [
    "if 25 > 10:\n",
    "    print('It worked!')\n"
   ]
  },
  {
   "cell_type": "code",
   "execution_count": 74,
   "id": "fd8b5213-98cd-4a90-a4c0-4d6444bc971b",
   "metadata": {},
   "outputs": [
    {
     "name": "stdout",
     "output_type": "stream",
     "text": [
      "It worked!\n"
     ]
    }
   ],
   "source": [
    "if 25 > 10:\n",
    "    print('It worked!')\n",
    "else:\n",
    "    print('It did not work...')"
   ]
  },
  {
   "cell_type": "code",
   "execution_count": 75,
   "id": "b33ff09a-7fa1-4d9d-9ff1-2dcff1ea63fa",
   "metadata": {},
   "outputs": [
    {
     "name": "stdout",
     "output_type": "stream",
     "text": [
      "It worked!\n"
     ]
    }
   ],
   "source": [
    "if (25 < 10) or (1 < 3):\n",
    "    print('It worked!')\n",
    "elif 25 < 20:\n",
    "    print('elif worked!')\n",
    "elif 25 < 21:\n",
    "    print('elif 2 worked!')\n",
    "elif 25 < 40:\n",
    "    print('elif 3 worked!')\n",
    "elif 25 < 50:\n",
    "    print('elif 4 worked!')\n",
    "else:\n",
    "    print('It did not work...')"
   ]
  },
  {
   "cell_type": "code",
   "execution_count": 76,
   "id": "cf653767-35a3-4d50-b1a3-6e3b8096877e",
   "metadata": {},
   "outputs": [
    {
     "name": "stdout",
     "output_type": "stream",
     "text": [
      "It did not work...\n"
     ]
    }
   ],
   "source": [
    "print('It worked!') if 10>30 else print('It did not work...')"
   ]
  },
  {
   "cell_type": "code",
   "execution_count": 77,
   "id": "1a1c7e9d-6150-4f8c-9f34-a21339c25d8a",
   "metadata": {},
   "outputs": [
    {
     "name": "stdout",
     "output_type": "stream",
     "text": [
      "It worked!\n",
      "This nested if statement worked!\n"
     ]
    }
   ],
   "source": [
    "if (25 < 10) or (1 < 3):\n",
    "    print('It worked!')\n",
    "    if 10 > 5:\n",
    "        print('This nested if statement worked!')\n",
    "elif 25 < 20:\n",
    "    print('elif worked!')\n",
    "elif 25 < 21:\n",
    "    print('elif 2 worked!')\n",
    "elif 25 < 40:\n",
    "    print('elif 3 worked!')\n",
    "elif 25 < 50:\n",
    "    print('elif 4 worked!')\n",
    "else:\n",
    "    print('It did not work...')"
   ]
  },
  {
   "cell_type": "markdown",
   "id": "e402bc98-3ee1-4d50-84d4-f44f64ca1772",
   "metadata": {},
   "source": [
    "# For Loops"
   ]
  },
  {
   "cell_type": "code",
   "execution_count": 78,
   "id": "120b7dba-67e6-40df-8c2a-f5b9f9357c63",
   "metadata": {},
   "outputs": [],
   "source": [
    "\n",
    "integers = [1,2,3,4,5]"
   ]
  },
  {
   "cell_type": "code",
   "execution_count": 79,
   "id": "683535a9-f06a-4e6e-8581-8912066b1324",
   "metadata": {},
   "outputs": [
    {
     "name": "stdout",
     "output_type": "stream",
     "text": [
      "1\n",
      "2\n",
      "3\n",
      "4\n",
      "5\n"
     ]
    }
   ],
   "source": [
    "for number in integers:\n",
    "    print(number)"
   ]
  },
  {
   "cell_type": "code",
   "execution_count": 80,
   "id": "20751cc3-2614-42fd-8629-db7013e693d7",
   "metadata": {},
   "outputs": [
    {
     "name": "stdout",
     "output_type": "stream",
     "text": [
      "yep!\n",
      "yep!\n",
      "yep!\n",
      "yep!\n",
      "yep!\n"
     ]
    }
   ],
   "source": [
    "for number in integers:\n",
    "    print('yep!')"
   ]
  },
  {
   "cell_type": "code",
   "execution_count": 81,
   "id": "5efb905e-38c3-4903-8a2d-712d8dde994c",
   "metadata": {},
   "outputs": [],
   "source": [
    "integers = [1,2,3,4,5]"
   ]
  },
  {
   "cell_type": "code",
   "execution_count": 82,
   "id": "903f1972-5253-4a9e-ac76-acf762557890",
   "metadata": {},
   "outputs": [
    {
     "name": "stdout",
     "output_type": "stream",
     "text": [
      "2\n",
      "4\n",
      "6\n",
      "8\n",
      "10\n"
     ]
    }
   ],
   "source": [
    "for Jelly in integers:\n",
    "    print(Jelly + Jelly)"
   ]
  },
  {
   "cell_type": "code",
   "execution_count": 83,
   "id": "84f0aaf4-9662-4a5d-ba6a-f8502763c588",
   "metadata": {},
   "outputs": [],
   "source": [
    "ice_cream_dict = {'name': 'Alex Freberg', 'weekly intake': 5, 'favorite ice creams': ['MCC', 'Chocolate']}"
   ]
  },
  {
   "cell_type": "code",
   "execution_count": 84,
   "id": "699649b8-d8aa-4c85-9bd7-032860249f48",
   "metadata": {},
   "outputs": [
    {
     "name": "stdout",
     "output_type": "stream",
     "text": [
      "Alex Freberg\n",
      "5\n",
      "['MCC', 'Chocolate']\n"
     ]
    }
   ],
   "source": [
    "for cream in ice_cream_dict.values():\n",
    "    print(cream)"
   ]
  },
  {
   "cell_type": "code",
   "execution_count": 85,
   "id": "cc9e807a-8d26-4650-b5fd-3f6583cb669c",
   "metadata": {},
   "outputs": [
    {
     "name": "stdout",
     "output_type": "stream",
     "text": [
      "name -> Alex Freberg\n",
      "weekly intake -> 5\n",
      "favorite ice creams -> ['MCC', 'Chocolate']\n"
     ]
    }
   ],
   "source": [
    "for key, value in ice_cream_dict.items():\n",
    "    print(key, '->',value)"
   ]
  },
  {
   "cell_type": "markdown",
   "id": "ab7e3330-681f-47d8-9a44-12de71147666",
   "metadata": {},
   "source": [
    "# Nested For Loops"
   ]
  },
  {
   "cell_type": "code",
   "execution_count": 86,
   "id": "49589a3e-82f0-40f2-9d71-1e991fb85a84",
   "metadata": {},
   "outputs": [],
   "source": [
    "flavors = ['Vanilla', 'Chocolate', 'Cookie Dough']\n",
    "toppings = ['Hot Fudge', 'Oreos', 'Marshmallows']"
   ]
  },
  {
   "cell_type": "code",
   "execution_count": 87,
   "id": "1d277309-45ef-49e9-a808-840cd91faea6",
   "metadata": {},
   "outputs": [
    {
     "name": "stdout",
     "output_type": "stream",
     "text": [
      "Vanilla topped with Hot Fudge\n",
      "Vanilla topped with Oreos\n",
      "Vanilla topped with Marshmallows\n",
      "Chocolate topped with Hot Fudge\n",
      "Chocolate topped with Oreos\n",
      "Chocolate topped with Marshmallows\n",
      "Cookie Dough topped with Hot Fudge\n",
      "Cookie Dough topped with Oreos\n",
      "Cookie Dough topped with Marshmallows\n"
     ]
    }
   ],
   "source": [
    "for one in flavors:\n",
    "    for two in toppings:\n",
    "        print(one, 'topped with', two)"
   ]
  },
  {
   "cell_type": "markdown",
   "id": "604cdd8a-b3a9-4fd3-b65b-565313c25dd2",
   "metadata": {},
   "source": [
    "# While Loops"
   ]
  },
  {
   "cell_type": "code",
   "execution_count": 88,
   "id": "234dcac6-6b71-425f-8216-678bdc3141c7",
   "metadata": {},
   "outputs": [
    {
     "name": "stdout",
     "output_type": "stream",
     "text": [
      "0\n",
      "1\n",
      "2\n",
      "3\n",
      "4\n"
     ]
    }
   ],
   "source": [
    "number = 0\n",
    "\n",
    "while number < 5:\n",
    "    print(number)\n",
    "    number = number + 1\n"
   ]
  },
  {
   "cell_type": "code",
   "execution_count": 89,
   "id": "6061fefd-305a-4400-9203-daf07fa203b5",
   "metadata": {},
   "outputs": [
    {
     "name": "stdout",
     "output_type": "stream",
     "text": [
      "0\n",
      "1\n",
      "2\n",
      "3\n"
     ]
    }
   ],
   "source": [
    "number = 0\n",
    "\n",
    "while number < 5:\n",
    "    print(number)\n",
    "    if number == 3:\n",
    "        break\n",
    "    number = number + 1"
   ]
  },
  {
   "cell_type": "code",
   "execution_count": 90,
   "id": "5370f8ad-a284-4c63-98ce-880703d24177",
   "metadata": {},
   "outputs": [
    {
     "name": "stdout",
     "output_type": "stream",
     "text": [
      "0\n",
      "1\n",
      "2\n",
      "3\n"
     ]
    }
   ],
   "source": [
    "number = 0\n",
    "\n",
    "while number < 5:\n",
    "    print(number)\n",
    "    if number == 3:\n",
    "        break\n",
    "    number = number + 1\n",
    "else:\n",
    "    print('No longer < 5')\n"
   ]
  },
  {
   "cell_type": "code",
   "execution_count": 91,
   "id": "fedcbfad-1e44-45a1-9bbd-eb9d5fb34207",
   "metadata": {},
   "outputs": [
    {
     "name": "stdout",
     "output_type": "stream",
     "text": [
      "1\n",
      "2\n",
      "4\n",
      "5\n",
      "No longer < 5\n"
     ]
    }
   ],
   "source": [
    "number = 0\n",
    "\n",
    "while number < 5:\n",
    "    number = number + 1\n",
    "    if number == 3:\n",
    "        continue \n",
    "    print(number)\n",
    "else:\n",
    "    print('No longer < 5')"
   ]
  },
  {
   "cell_type": "markdown",
   "id": "f537a61d-f7c0-46a4-ac19-88a65efd6bc4",
   "metadata": {},
   "source": [
    "# Functions"
   ]
  },
  {
   "cell_type": "code",
   "execution_count": 92,
   "id": "c2220ffc-78ea-409f-bea7-4a876fbb52e2",
   "metadata": {},
   "outputs": [],
   "source": [
    "def first_func():\n",
    "    print('We did it!')"
   ]
  },
  {
   "cell_type": "code",
   "execution_count": 93,
   "id": "109a37d0-8fff-4d7b-bd66-548f96e7fd14",
   "metadata": {},
   "outputs": [
    {
     "name": "stdout",
     "output_type": "stream",
     "text": [
      "We did it!\n"
     ]
    }
   ],
   "source": [
    "\n",
    "first_func()"
   ]
  },
  {
   "cell_type": "code",
   "execution_count": 94,
   "id": "65076f86-882a-4cec-9c55-20a61651206f",
   "metadata": {},
   "outputs": [],
   "source": [
    "def number_squared(number):\n",
    "    print(number**2)\n"
   ]
  },
  {
   "cell_type": "code",
   "execution_count": 95,
   "id": "e9d51668-5500-4b57-9e65-57c07be0c2ef",
   "metadata": {},
   "outputs": [
    {
     "name": "stdout",
     "output_type": "stream",
     "text": [
      "25\n"
     ]
    }
   ],
   "source": [
    "\n",
    "number_squared(5)"
   ]
  },
  {
   "cell_type": "code",
   "execution_count": 96,
   "id": "802c3f23-2b5b-4676-b02b-9690839985f6",
   "metadata": {},
   "outputs": [],
   "source": [
    "\n",
    "def number_squared_cust(number,power):\n",
    "    print(number**power)"
   ]
  },
  {
   "cell_type": "code",
   "execution_count": 98,
   "id": "380e8f21-a264-49f3-b593-ff0cfe4b9575",
   "metadata": {},
   "outputs": [
    {
     "name": "stdout",
     "output_type": "stream",
     "text": [
      "125\n"
     ]
    }
   ],
   "source": [
    "\n",
    "number_squared_cust(5,3)"
   ]
  },
  {
   "cell_type": "code",
   "execution_count": 99,
   "id": "7c0c62ee-c861-46d8-ae15-43c1c2beb543",
   "metadata": {},
   "outputs": [],
   "source": [
    "args_tuple = (5,6,1,2,8)\n",
    "\n",
    "def number_args(*number):\n",
    "    print(number[0]*number[1])"
   ]
  },
  {
   "cell_type": "code",
   "execution_count": 100,
   "id": "0d7966ab-962c-4663-8ca6-81594be7b606",
   "metadata": {},
   "outputs": [
    {
     "name": "stdout",
     "output_type": "stream",
     "text": [
      "30\n"
     ]
    }
   ],
   "source": [
    "\n",
    "number_args(*args_tuple)"
   ]
  },
  {
   "cell_type": "code",
   "execution_count": 101,
   "id": "62995f8e-0706-4436-96b2-0da2a154d97f",
   "metadata": {},
   "outputs": [],
   "source": [
    "def number_squared_cust(number,power):\n",
    "    print(number**power)"
   ]
  },
  {
   "cell_type": "code",
   "execution_count": 102,
   "id": "be219862-c71d-4df3-9c8e-c1733366432f",
   "metadata": {},
   "outputs": [
    {
     "name": "stdout",
     "output_type": "stream",
     "text": [
      "243\n"
     ]
    }
   ],
   "source": [
    "\n",
    "number_squared_cust(power = 5,number = 3)"
   ]
  },
  {
   "cell_type": "code",
   "execution_count": 103,
   "id": "4c68b633-3255-443b-8a9c-2e21266cb7fd",
   "metadata": {},
   "outputs": [],
   "source": [
    "def number_kwarg(**number):\n",
    "    print('My number is: ' + number['integer'] + 'My other number: ' + number['integer2'])"
   ]
  },
  {
   "cell_type": "code",
   "execution_count": 104,
   "id": "a7a6530b-cf31-4b41-80a7-932a70c58902",
   "metadata": {},
   "outputs": [
    {
     "name": "stdout",
     "output_type": "stream",
     "text": [
      "My number is: 2309My other number: 349\n"
     ]
    }
   ],
   "source": [
    "\n",
    "number_kwarg(integer = '2309', integer2 = '349')"
   ]
  },
  {
   "cell_type": "markdown",
   "id": "c89d39c3-1931-494c-89b2-d85034812833",
   "metadata": {},
   "source": [
    "# Converting Data Types"
   ]
  },
  {
   "cell_type": "code",
   "execution_count": 105,
   "id": "2f491914-d072-406c-9511-2ec8fb1d7622",
   "metadata": {},
   "outputs": [
    {
     "data": {
      "text/plain": [
       "int"
      ]
     },
     "execution_count": 105,
     "metadata": {},
     "output_type": "execute_result"
    }
   ],
   "source": [
    "num_int = 7\n",
    "\n",
    "type(num_int)"
   ]
  },
  {
   "cell_type": "code",
   "execution_count": 106,
   "id": "350391d4-34de-472b-ad76-170cad1cad91",
   "metadata": {},
   "outputs": [
    {
     "data": {
      "text/plain": [
       "str"
      ]
     },
     "execution_count": 106,
     "metadata": {},
     "output_type": "execute_result"
    }
   ],
   "source": [
    "\n",
    "num_str = '7'\n",
    "\n",
    "type(num_str)"
   ]
  },
  {
   "cell_type": "code",
   "execution_count": 107,
   "id": "dcc3ac46-9ff4-4eaa-8b58-11829f61de29",
   "metadata": {},
   "outputs": [
    {
     "data": {
      "text/plain": [
       "int"
      ]
     },
     "execution_count": 107,
     "metadata": {},
     "output_type": "execute_result"
    }
   ],
   "source": [
    "nun_str_conv = int(num_str)\n",
    "\n",
    "type(nun_str_conv)"
   ]
  },
  {
   "cell_type": "code",
   "execution_count": 108,
   "id": "2edec466-3f61-4f5d-aefe-7877a82eb762",
   "metadata": {},
   "outputs": [
    {
     "data": {
      "text/plain": [
       "list"
      ]
     },
     "execution_count": 108,
     "metadata": {},
     "output_type": "execute_result"
    }
   ],
   "source": [
    "list_type = [1,2,3]\n",
    "\n",
    "type(list_type)"
   ]
  },
  {
   "cell_type": "code",
   "execution_count": 109,
   "id": "138f6f48-4896-44fd-a7e4-a0b0fcead3d7",
   "metadata": {},
   "outputs": [
    {
     "data": {
      "text/plain": [
       "tuple"
      ]
     },
     "execution_count": 109,
     "metadata": {},
     "output_type": "execute_result"
    }
   ],
   "source": [
    "\n",
    "type(tuple(list_type))"
   ]
  },
  {
   "cell_type": "code",
   "execution_count": 110,
   "id": "1aae565f-8b33-4610-b94d-e50d82637aa2",
   "metadata": {},
   "outputs": [],
   "source": [
    "\n",
    "list_type = [1,2,3,3,2,1,2,3,2,1]"
   ]
  },
  {
   "cell_type": "code",
   "execution_count": 111,
   "id": "aa8efd0b-c361-48f0-9681-2b45382b08f0",
   "metadata": {},
   "outputs": [
    {
     "data": {
      "text/plain": [
       "set"
      ]
     },
     "execution_count": 111,
     "metadata": {},
     "output_type": "execute_result"
    }
   ],
   "source": [
    "\n",
    "type(set(list_type))"
   ]
  },
  {
   "cell_type": "code",
   "execution_count": 112,
   "id": "f0ea7924-0ffc-4343-8589-2cbcda6e4dbe",
   "metadata": {},
   "outputs": [
    {
     "data": {
      "text/plain": [
       "{' ', 'I', 'a', 'e', 'i', 'k', 'l', 'o', 'p', 'r', 't', 'y'}"
      ]
     },
     "execution_count": 112,
     "metadata": {},
     "output_type": "execute_result"
    }
   ],
   "source": [
    "long_str = \"I like to party\"\n",
    "\n",
    "set(long_str)"
   ]
  },
  {
   "cell_type": "markdown",
   "id": "6e821f3f-8148-41ca-836f-e3af85b82a60",
   "metadata": {},
   "source": [
    "# BMI Calculator"
   ]
  },
  {
   "cell_type": "code",
   "execution_count": 2,
   "id": "8b9af7b5-783e-4f3d-aa40-dda29237651a",
   "metadata": {},
   "outputs": [
    {
     "name": "stdin",
     "output_type": "stream",
     "text": [
      "Enter you name:  Vaishnavi\n",
      "Enter your weight in pounds:  110\n",
      "Enter your height in inches:  65\n"
     ]
    },
    {
     "name": "stdout",
     "output_type": "stream",
     "text": [
      "18.302958579881658\n",
      "Vaishnavi, you are underwight.\n"
     ]
    }
   ],
   "source": [
    "name = input(\"Enter you name: \")\n",
    "\n",
    "weight = int(input(\"Enter your weight in pounds: \"))\n",
    "\n",
    "height = int(input(\"Enter your height in inches: \"))\n",
    "\n",
    "BMI = (weight * 703) / (height * height)\n",
    "print(BMI)\n",
    "\n",
    "if BMI>0:\n",
    "    if(BMI<18.5):\n",
    "        print(name +\", you are underwight.\")\n",
    "    elif (BMI<=24.9):\n",
    "        print(name +\", you are normal weight.\")\n",
    "    elif (BMI<29.9):\n",
    "        print(name +\", you are overweight. You need to exercise more and stop sitting and writing so many python tutorials.\")\n",
    "    elif (BMI<34.9):\n",
    "        print(name +\", you are obese.\")\n",
    "    elif (BMI<39.9):\n",
    "        print(name +\", you are severely obese.\")\n",
    "    else:\n",
    "        print(name +\", you are morbidly obese.\")\n",
    "else:\n",
    "    print(\"Enter valid input\")"
   ]
  },
  {
   "cell_type": "code",
   "execution_count": null,
   "id": "17ff670f-590b-46ce-a950-e170290c828d",
   "metadata": {},
   "outputs": [],
   "source": []
  },
  {
   "cell_type": "code",
   "execution_count": null,
   "id": "5f799cc3-c77b-4fe5-8c5b-a9c7ad1fca12",
   "metadata": {},
   "outputs": [],
   "source": []
  }
 ],
 "metadata": {
  "kernelspec": {
   "display_name": "Python 3 (ipykernel)",
   "language": "python",
   "name": "python3"
  },
  "language_info": {
   "codemirror_mode": {
    "name": "ipython",
    "version": 3
   },
   "file_extension": ".py",
   "mimetype": "text/x-python",
   "name": "python",
   "nbconvert_exporter": "python",
   "pygments_lexer": "ipython3",
   "version": "3.13.0"
  }
 },
 "nbformat": 4,
 "nbformat_minor": 5
}
